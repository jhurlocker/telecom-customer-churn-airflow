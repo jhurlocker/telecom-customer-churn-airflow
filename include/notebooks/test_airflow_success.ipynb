{
 "cells": [
  {
   "cell_type": "code",
   "execution_count": null,
   "metadata": {},
   "outputs": [],
   "source": [
    "!pip install scikit-learn==1.1.1"
   ]
  },
  {
   "cell_type": "code",
   "execution_count": null,
   "metadata": {},
   "outputs": [],
   "source": [
    "import pickle\n",
    "import boto3\n",
    "import os"
   ]
  },
  {
   "cell_type": "code",
   "execution_count": null,
   "metadata": {},
   "outputs": [],
   "source": [
    "# Initializing S3 access\n",
    "key_id = os.environ.get(\"AWS_ACCESS_KEY_ID\")\n",
    "secret_key = os.environ.get(\"AWS_SECRET_ACCESS_KEY\")\n",
    "endpoint = os.environ.get(\"AWS_S3_ENDPOINT\")\n",
    "bucket_name = os.environ.get(\"AWS_S3_BUCKET\")\n",
    "best_model_bucket_key = \"best_model\"\n",
    "\n",
    "session = boto3.session.Session(aws_access_key_id=key_id, aws_secret_access_key=secret_key)\n",
    "s3 = session.resource(service_name='s3', endpoint_url=endpoint)"
   ]
  },
  {
   "cell_type": "code",
   "execution_count": null,
   "metadata": {},
   "outputs": [],
   "source": [
    "# Load and print the model and the meta-data\n",
    "best_model_pickle = s3.Bucket(bucket_name).Object(best_model_bucket_key).get()['Body'].read()\n",
    "best_model_data = pickle.loads(best_model_pickle)\n",
    "print(best_model_data)"
   ]
  }
 ],
 "metadata": {
  "language_info": {
   "name": "python"
  },
  "orig_nbformat": 4
 },
 "nbformat": 4,
 "nbformat_minor": 2
}
